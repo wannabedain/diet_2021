{
  "cells": [
    {
      "cell_type": "markdown",
      "metadata": {
        "id": "view-in-github",
        "colab_type": "text"
      },
      "source": [
        "<a href=\"https://colab.research.google.com/github/wannabedain/diet_2021/blob/main/func.ipynb\" target=\"_parent\"><img src=\"https://colab.research.google.com/assets/colab-badge.svg\" alt=\"Open In Colab\"/></a>"
      ]
    },
    {
      "cell_type": "code",
      "execution_count": null,
      "id": "a9fbd0b1",
      "metadata": {
        "id": "a9fbd0b1"
      },
      "outputs": [],
      "source": [
        "# 라이브러리 추가\n",
        "import requests; from urllib.parse import urlparse\n",
        "import pandas as pd\n",
        "import geopandas"
      ]
    },
    {
      "cell_type": "code",
      "execution_count": null,
      "id": "30fe6cb6",
      "metadata": {
        "scrolled": true,
        "id": "30fe6cb6",
        "outputId": "1bc9a7ec-f76e-4ee7-9dd9-a9a7d79d7237"
      },
      "outputs": [
        {
          "name": "stdout",
          "output_type": "stream",
          "text": [
            "<class 'dict'>\n"
          ]
        }
      ],
      "source": [
        "# 카카오맵 주소 검색 API: https://developers.kakao.com/docs/restapi/local#주소-검색\n",
        "\n",
        "'''def find_area(address): \n",
        "    list = []\n",
        "    url = \"https://dapi.kakao.com/v2/local/search/keyword.json?&query=\" + address\n",
        "    result = requests.get(urlparse(url).geturl(),headers={\"Authorization\":\"KakaoAK 91dd91a9c6fb9c0c9f0a92b028bddaf2\"})\n",
        "    json_obj = result.json()\n",
        "    #new_df = pd.DataFrame()\n",
        "    new_data ={}\n",
        "    for document in json_obj['documents']:\n",
        "        new_data = {'장소명': document['place_name'],'위도': [document['y']], '경도' :[document['x']]}\n",
        "       # new_df = pd.DataFrame(new_data)\n",
        "        break;  \n",
        "    return new_data\n",
        "\n",
        "print(type(find_area('주안5동 16-162 밀알교회')))'''"
      ]
    },
    {
      "cell_type": "code",
      "execution_count": null,
      "id": "d7994b23",
      "metadata": {
        "id": "d7994b23",
        "outputId": "fbe02807-a33b-476f-922c-76ab337c0c95"
      },
      "outputs": [
        {
          "name": "stdout",
          "output_type": "stream",
          "text": [
            "0                 밀알교회\n",
            "1    37.46999683149197\n",
            "2    126.6808625097192\n",
            "dtype: object\n"
          ]
        }
      ],
      "source": [
        "def find_area(address): \n",
        "    list = []\n",
        "    url = \"https://dapi.kakao.com/v2/local/search/keyword.json?&query=\" + address\n",
        "    result = requests.get(urlparse(url).geturl(),headers={\"Authorization\":\"KakaoAK 91dd91a9c6fb9c0c9f0a92b028bddaf2\"})\n",
        "    json_obj = result.json()\n",
        "    #new_df = pd.DataFrame()\n",
        "    #new_data ={}\n",
        "    for document in json_obj['documents']:\n",
        "        list = [document['place_name'], document['y'], document['x']]\n",
        "       # new_df = pd.DataFrame(new_data)\n",
        "        break;  \n",
        "    return pd.Series(list) \n",
        "\n",
        "print(find_area('주안5동 16-162 밀알교회'))"
      ]
    },
    {
      "cell_type": "code",
      "execution_count": null,
      "id": "9b110c8d",
      "metadata": {
        "id": "9b110c8d"
      },
      "outputs": [],
      "source": [
        "#함수로 만드는 거 완성하기\n",
        "#함수로 실행해서 CSV파일로 만들기"
      ]
    },
    {
      "cell_type": "code",
      "execution_count": null,
      "id": "1c782600",
      "metadata": {
        "scrolled": true,
        "id": "1c782600",
        "outputId": "77285bd1-4082-46b4-ecf1-fe1a6e7e0a55"
      },
      "outputs": [
        {
          "data": {
            "text/html": [
              "<div>\n",
              "<style scoped>\n",
              "    .dataframe tbody tr th:only-of-type {\n",
              "        vertical-align: middle;\n",
              "    }\n",
              "\n",
              "    .dataframe tbody tr th {\n",
              "        vertical-align: top;\n",
              "    }\n",
              "\n",
              "    .dataframe thead th {\n",
              "        text-align: right;\n",
              "    }\n",
              "</style>\n",
              "<table border=\"1\" class=\"dataframe\">\n",
              "  <thead>\n",
              "    <tr style=\"text-align: right;\">\n",
              "      <th></th>\n",
              "      <th>seq</th>\n",
              "      <th>차량번호</th>\n",
              "      <th>차량소속</th>\n",
              "      <th>콜접수 일자</th>\n",
              "      <th>콜접수 시간</th>\n",
              "      <th>장애유형</th>\n",
              "      <th>승차 일자</th>\n",
              "      <th>승차시간</th>\n",
              "      <th>승차X</th>\n",
              "      <th>승차Y</th>\n",
              "      <th>하차 일자</th>\n",
              "      <th>하차 시간</th>\n",
              "      <th>하차X</th>\n",
              "      <th>하차Y</th>\n",
              "      <th>운행거리</th>\n",
              "      <th>픽업거리</th>\n",
              "      <th>요금</th>\n",
              "      <th>호출지</th>\n",
              "      <th>목적지</th>\n",
              "    </tr>\n",
              "  </thead>\n",
              "  <tbody>\n",
              "    <tr>\n",
              "      <th>0</th>\n",
              "      <td>NaN</td>\n",
              "      <td>30바9844(470호)</td>\n",
              "      <td>임차택시</td>\n",
              "      <td>2021-08-03</td>\n",
              "      <td>3:30</td>\n",
              "      <td>신장</td>\n",
              "      <td>2021-08-03</td>\n",
              "      <td>6:28</td>\n",
              "      <td>NaN</td>\n",
              "      <td>NaN</td>\n",
              "      <td>2021-08-03</td>\n",
              "      <td>6:41</td>\n",
              "      <td>NaN</td>\n",
              "      <td>NaN</td>\n",
              "      <td>4,852</td>\n",
              "      <td>NaN</td>\n",
              "      <td>1,800</td>\n",
              "      <td>주안5동 16-162 밀알교회</td>\n",
              "      <td>주안3동 749-6 신덕빌라</td>\n",
              "    </tr>\n",
              "    <tr>\n",
              "      <th>1</th>\n",
              "      <td>NaN</td>\n",
              "      <td>30바2637(424호)</td>\n",
              "      <td>임차택시</td>\n",
              "      <td>2021-08-03</td>\n",
              "      <td>5:04</td>\n",
              "      <td>신장</td>\n",
              "      <td>2021-08-03</td>\n",
              "      <td>5:22</td>\n",
              "      <td>NaN</td>\n",
              "      <td>NaN</td>\n",
              "      <td>2021-08-03</td>\n",
              "      <td>5:25</td>\n",
              "      <td>NaN</td>\n",
              "      <td>NaN</td>\n",
              "      <td>1,274</td>\n",
              "      <td>NaN</td>\n",
              "      <td>1,200</td>\n",
              "      <td>논현동 하나비젼교회</td>\n",
              "      <td>청학동 시대@ 106동</td>\n",
              "    </tr>\n",
              "    <tr>\n",
              "      <th>2</th>\n",
              "      <td>NaN</td>\n",
              "      <td>30바1879(396호)</td>\n",
              "      <td>임차택시</td>\n",
              "      <td>2021-08-03</td>\n",
              "      <td>4:20</td>\n",
              "      <td>신장</td>\n",
              "      <td>2021-08-03</td>\n",
              "      <td>6:23</td>\n",
              "      <td>NaN</td>\n",
              "      <td>NaN</td>\n",
              "      <td>2021-08-03</td>\n",
              "      <td>6:47</td>\n",
              "      <td>NaN</td>\n",
              "      <td>NaN</td>\n",
              "      <td>9,385</td>\n",
              "      <td>NaN</td>\n",
              "      <td>2,800</td>\n",
              "      <td>심곡동 284-4</td>\n",
              "      <td>부평성모병원</td>\n",
              "    </tr>\n",
              "    <tr>\n",
              "      <th>3</th>\n",
              "      <td>NaN</td>\n",
              "      <td>30바9399(542호)</td>\n",
              "      <td>임차택시</td>\n",
              "      <td>2021-08-03</td>\n",
              "      <td>4:20</td>\n",
              "      <td>지체</td>\n",
              "      <td>2021-08-03</td>\n",
              "      <td>6:36</td>\n",
              "      <td>NaN</td>\n",
              "      <td>NaN</td>\n",
              "      <td>2021-08-03</td>\n",
              "      <td>6:47</td>\n",
              "      <td>NaN</td>\n",
              "      <td>NaN</td>\n",
              "      <td>7,890</td>\n",
              "      <td>NaN</td>\n",
              "      <td>2,400</td>\n",
              "      <td>주안동 502-13</td>\n",
              "      <td>마전동 1024-18</td>\n",
              "    </tr>\n",
              "    <tr>\n",
              "      <th>4</th>\n",
              "      <td>NaN</td>\n",
              "      <td>30바5071(309호)</td>\n",
              "      <td>임차택시</td>\n",
              "      <td>2021-08-03</td>\n",
              "      <td>4:30</td>\n",
              "      <td>신장</td>\n",
              "      <td>2021-08-03</td>\n",
              "      <td>6:30</td>\n",
              "      <td>NaN</td>\n",
              "      <td>NaN</td>\n",
              "      <td>2021-08-03</td>\n",
              "      <td>6:42</td>\n",
              "      <td>NaN</td>\n",
              "      <td>NaN</td>\n",
              "      <td>7,677</td>\n",
              "      <td>NaN</td>\n",
              "      <td>3,600</td>\n",
              "      <td>작전동 907-4</td>\n",
              "      <td>작전동 까치마을 태화@</td>\n",
              "    </tr>\n",
              "  </tbody>\n",
              "</table>\n",
              "</div>"
            ],
            "text/plain": [
              "   seq           차량번호  차량소속      콜접수 일자 콜접수 시간 장애유형       승차 일자  승차시간  승차X  \\\n",
              "0  NaN  30바9844(470호)  임차택시  2021-08-03   3:30   신장  2021-08-03  6:28  NaN   \n",
              "1  NaN  30바2637(424호)  임차택시  2021-08-03   5:04   신장  2021-08-03  5:22  NaN   \n",
              "2  NaN  30바1879(396호)  임차택시  2021-08-03   4:20   신장  2021-08-03  6:23  NaN   \n",
              "3  NaN  30바9399(542호)  임차택시  2021-08-03   4:20   지체  2021-08-03  6:36  NaN   \n",
              "4  NaN  30바5071(309호)  임차택시  2021-08-03   4:30   신장  2021-08-03  6:30  NaN   \n",
              "\n",
              "   승차Y       하차 일자 하차 시간  하차X  하차Y   운행거리  픽업거리     요금               호출지  \\\n",
              "0  NaN  2021-08-03  6:41  NaN  NaN  4,852   NaN  1,800  주안5동 16-162 밀알교회   \n",
              "1  NaN  2021-08-03  5:25  NaN  NaN  1,274   NaN  1,200        논현동 하나비젼교회   \n",
              "2  NaN  2021-08-03  6:47  NaN  NaN  9,385   NaN  2,800         심곡동 284-4   \n",
              "3  NaN  2021-08-03  6:47  NaN  NaN  7,890   NaN  2,400        주안동 502-13   \n",
              "4  NaN  2021-08-03  6:42  NaN  NaN  7,677   NaN  3,600         작전동 907-4   \n",
              "\n",
              "               목적지  \n",
              "0  주안3동 749-6 신덕빌라  \n",
              "1     청학동 시대@ 106동  \n",
              "2           부평성모병원  \n",
              "3      마전동 1024-18  \n",
              "4     작전동 까치마을 태화@  "
            ]
          },
          "execution_count": 501,
          "metadata": {},
          "output_type": "execute_result"
        }
      ],
      "source": [
        "csv_taxi = pd.read_csv('C:/myTransportation/01.Pred_Demand/0. 데이터/input/data20_2108_호출지목적지.csv', encoding = 'cp949')\n",
        "new = csv_taxi.head(5)\n",
        "\n",
        "new = new.astype({'호출지': 'str'})\n",
        "new"
      ]
    },
    {
      "cell_type": "code",
      "execution_count": null,
      "id": "3a247f1e",
      "metadata": {
        "scrolled": true,
        "id": "3a247f1e",
        "outputId": "ce111b02-25f1-4651-ddd9-b059a5b83235"
      },
      "outputs": [
        {
          "name": "stdout",
          "output_type": "stream",
          "text": [
            "Requirement already satisfied: plotly in c:\\users\\user\\anaconda3\\envs\\geo_env\\lib\\site-packages (5.3.1)\n",
            "Requirement already satisfied: tenacity>=6.2.0 in c:\\users\\user\\anaconda3\\envs\\geo_env\\lib\\site-packages (from plotly) (8.0.1)\n",
            "Requirement already satisfied: six in c:\\users\\user\\anaconda3\\envs\\geo_env\\lib\\site-packages (from plotly) (1.16.0)\n"
          ]
        }
      ],
      "source": [
        "!pip install plotly"
      ]
    },
    {
      "cell_type": "code",
      "execution_count": null,
      "id": "64cb6bae",
      "metadata": {
        "id": "64cb6bae"
      },
      "outputs": [],
      "source": [
        "import plotly.express as px"
      ]
    },
    {
      "cell_type": "code",
      "execution_count": null,
      "id": "79923c11",
      "metadata": {
        "id": "79923c11"
      },
      "outputs": [],
      "source": [
        "def make_csv_승차():\n",
        "    csv_taxi = pd.read_csv('C:/myTransportation/source/승차데이터_소현5000.csv', encoding = 'cp949')\n",
        "    new = csv_taxi.astype({'호출지1': 'str'})\n",
        "    is_cannot = new['주소구분'] == '판별불가'\n",
        "    cannot = new[is_cannot]\n",
        "    df = pd.DataFrame()\n",
        "    df = cannot['호출지1'].apply(find_area)\n",
        "    df = pd.concat([cannot, df], ignore_index = True, axis =1)\n",
        "    df = df.drop(columns=[0,1], axis=1)\n",
        "    df.to_csv('승차데이터_소현_100.csv', encoding = 'cp949')"
      ]
    },
    {
      "cell_type": "code",
      "execution_count": null,
      "id": "ed07b201",
      "metadata": {
        "scrolled": true,
        "id": "ed07b201",
        "outputId": "610f5c22-5fd6-4bbd-eaf4-2b756344cea6"
      },
      "outputs": [
        {
          "name": "stderr",
          "output_type": "stream",
          "text": [
            "C:\\Users\\user\\AppData\\Local\\Temp/ipykernel_17856/2321214700.py:12: DeprecationWarning: The default dtype for empty Series will be 'object' instead of 'float64' in a future version. Specify a dtype explicitly to silence this warning.\n",
            "  return pd.Series(list)\n"
          ]
        }
      ],
      "source": [
        "make_csv_승차()"
      ]
    },
    {
      "cell_type": "code",
      "execution_count": null,
      "id": "a0d6fff7",
      "metadata": {
        "id": "a0d6fff7"
      },
      "outputs": [],
      "source": [
        "#파일 경로 바꾸기\n",
        "#저장 파일 이름 바꾸기\n",
        "def make_csv_하차():\n",
        "    csv_taxi = pd.read_csv('C:/myTransportation/source/하차데이터_소현5000.csv', encoding = 'cp949')\n",
        "    new = csv_taxi.astype({'목적지1': 'str'})\n",
        "    is_cannot = new['주소구분'] == '판별불가'\n",
        "    cannot = new[is_cannot]\n",
        "    df = pd.DataFrame()\n",
        "    df = cannot['목적지1'].apply(find_area)\n",
        "    df = pd.concat([cannot, df], ignore_index = True, axis =1)\n",
        "    df = df.drop(columns=[0,1], axis=1)\n",
        "    df.to_csv('하차데이터_소현_all.csv', encoding = 'cp949')"
      ]
    },
    {
      "cell_type": "code",
      "execution_count": null,
      "id": "a7ea183b",
      "metadata": {
        "id": "a7ea183b",
        "outputId": "de3c30d6-3fbd-4d20-ef9f-359f720f96aa"
      },
      "outputs": [
        {
          "name": "stderr",
          "output_type": "stream",
          "text": [
            "C:\\Users\\user\\AppData\\Local\\Temp/ipykernel_17856/2321214700.py:12: DeprecationWarning: The default dtype for empty Series will be 'object' instead of 'float64' in a future version. Specify a dtype explicitly to silence this warning.\n",
            "  return pd.Series(list)\n"
          ]
        }
      ],
      "source": [
        "make_csv_하차()"
      ]
    },
    {
      "cell_type": "code",
      "execution_count": null,
      "id": "7bd8f1a1",
      "metadata": {
        "id": "7bd8f1a1"
      },
      "outputs": [],
      "source": []
    }
  ],
  "metadata": {
    "kernelspec": {
      "display_name": "geo_env",
      "language": "python",
      "name": "geo_env"
    },
    "language_info": {
      "codemirror_mode": {
        "name": "ipython",
        "version": 3
      },
      "file_extension": ".py",
      "mimetype": "text/x-python",
      "name": "python",
      "nbconvert_exporter": "python",
      "pygments_lexer": "ipython3",
      "version": "3.9.7"
    },
    "colab": {
      "provenance": [],
      "include_colab_link": true
    }
  },
  "nbformat": 4,
  "nbformat_minor": 5
}