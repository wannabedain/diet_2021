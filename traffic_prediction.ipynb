{
  "cells": [
    {
      "cell_type": "code",
      "execution_count": null,
      "id": "d5879116-e3a6-4f2a-ab10-1bc6f704802b",
      "metadata": {
        "id": "d5879116-e3a6-4f2a-ab10-1bc6f704802b"
      },
      "outputs": [],
      "source": [
        "import pandas as pd"
      ]
    },
    {
      "cell_type": "markdown",
      "id": "c47d8731-2a5c-4809-b81d-8b224630b0f7",
      "metadata": {
        "id": "c47d8731-2a5c-4809-b81d-8b224630b0f7"
      },
      "source": [
        "### 19년 10월 속도데이터 집계"
      ]
    },
    {
      "cell_type": "code",
      "execution_count": null,
      "id": "278db315-3cdd-4d50-a94f-de95e55dbfef",
      "metadata": {
        "id": "278db315-3cdd-4d50-a94f-de95e55dbfef"
      },
      "outputs": [],
      "source": [
        "traffic_data = pd.read_excel('./2019년 10월 서울시 차량통행속도.xlsx')"
      ]
    },
    {
      "cell_type": "code",
      "execution_count": null,
      "id": "28832e93-8dc0-4592-b728-d9855f54ecc1",
      "metadata": {
        "id": "28832e93-8dc0-4592-b728-d9855f54ecc1",
        "outputId": "4c307b2b-12ac-4a7c-87b4-ed9a1108bd04"
      },
      "outputs": [
        {
          "data": {
            "text/plain": [
              "array(['보조간선도로', '기타도로', '주간선도로', '도시고속도로'], dtype=object)"
            ]
          },
          "execution_count": 134,
          "metadata": {},
          "output_type": "execute_result"
        }
      ],
      "source": [
        "traffic_data['기능유형구분'].unique()"
      ]
    },
    {
      "cell_type": "code",
      "execution_count": null,
      "id": "5e20f8cd-ae38-466d-af7e-11cfdf942862",
      "metadata": {
        "id": "5e20f8cd-ae38-466d-af7e-11cfdf942862",
        "outputId": "a45fb52e-a92a-43d1-f106-0d66f8766eab"
      },
      "outputs": [
        {
          "data": {
            "text/html": [
              "<div>\n",
              "<style scoped>\n",
              "    .dataframe tbody tr th:only-of-type {\n",
              "        vertical-align: middle;\n",
              "    }\n",
              "\n",
              "    .dataframe tbody tr th {\n",
              "        vertical-align: top;\n",
              "    }\n",
              "\n",
              "    .dataframe thead th {\n",
              "        text-align: right;\n",
              "    }\n",
              "</style>\n",
              "<table border=\"1\" class=\"dataframe\">\n",
              "  <thead>\n",
              "    <tr style=\"text-align: right;\">\n",
              "      <th></th>\n",
              "      <th>일자</th>\n",
              "      <th>요일</th>\n",
              "      <th>도로명</th>\n",
              "      <th>링크아이디</th>\n",
              "      <th>시점명</th>\n",
              "      <th>종점명</th>\n",
              "      <th>방향</th>\n",
              "      <th>거리</th>\n",
              "      <th>차선수</th>\n",
              "      <th>기능유형구분</th>\n",
              "      <th>...</th>\n",
              "      <th>권역구분</th>\n",
              "      <th>01시</th>\n",
              "      <th>02시</th>\n",
              "      <th>03시</th>\n",
              "      <th>04시</th>\n",
              "      <th>05시</th>\n",
              "      <th>06시</th>\n",
              "      <th>07시</th>\n",
              "      <th>08시</th>\n",
              "      <th>09시</th>\n",
              "    </tr>\n",
              "  </thead>\n",
              "  <tbody>\n",
              "    <tr>\n",
              "      <th>0</th>\n",
              "      <td>20191001</td>\n",
              "      <td>화</td>\n",
              "      <td>4.19로</td>\n",
              "      <td>1080012200</td>\n",
              "      <td>아카데미하우스</td>\n",
              "      <td>국립4.19묘지</td>\n",
              "      <td>상행</td>\n",
              "      <td>1179</td>\n",
              "      <td>1.0</td>\n",
              "      <td>보조간선도로</td>\n",
              "      <td>...</td>\n",
              "      <td>강북구</td>\n",
              "      <td>44.37</td>\n",
              "      <td>27.74</td>\n",
              "      <td>51.52</td>\n",
              "      <td>59.43</td>\n",
              "      <td>71.98</td>\n",
              "      <td>42.95</td>\n",
              "      <td>39.85</td>\n",
              "      <td>39.31</td>\n",
              "      <td>29.39</td>\n",
              "    </tr>\n",
              "    <tr>\n",
              "      <th>1</th>\n",
              "      <td>20191001</td>\n",
              "      <td>화</td>\n",
              "      <td>4.19로</td>\n",
              "      <td>1080012800</td>\n",
              "      <td>국립4.19묘지</td>\n",
              "      <td>국립4.19묘지입구</td>\n",
              "      <td>상행</td>\n",
              "      <td>352</td>\n",
              "      <td>2.0</td>\n",
              "      <td>보조간선도로</td>\n",
              "      <td>...</td>\n",
              "      <td>강북구</td>\n",
              "      <td>26.73</td>\n",
              "      <td>17.75</td>\n",
              "      <td>16.87</td>\n",
              "      <td>23.07</td>\n",
              "      <td>29.51</td>\n",
              "      <td>18.89</td>\n",
              "      <td>20.79</td>\n",
              "      <td>20.76</td>\n",
              "      <td>14.00</td>\n",
              "    </tr>\n",
              "    <tr>\n",
              "      <th>2</th>\n",
              "      <td>20191001</td>\n",
              "      <td>화</td>\n",
              "      <td>4.19로</td>\n",
              "      <td>1080012700</td>\n",
              "      <td>국립4.19묘지입구</td>\n",
              "      <td>국립4.19묘지</td>\n",
              "      <td>하행</td>\n",
              "      <td>354</td>\n",
              "      <td>2.0</td>\n",
              "      <td>보조간선도로</td>\n",
              "      <td>...</td>\n",
              "      <td>강북구</td>\n",
              "      <td>24.35</td>\n",
              "      <td>25.73</td>\n",
              "      <td>28.43</td>\n",
              "      <td>29.26</td>\n",
              "      <td>31.41</td>\n",
              "      <td>26.89</td>\n",
              "      <td>23.96</td>\n",
              "      <td>23.19</td>\n",
              "      <td>23.01</td>\n",
              "    </tr>\n",
              "    <tr>\n",
              "      <th>3</th>\n",
              "      <td>20191001</td>\n",
              "      <td>화</td>\n",
              "      <td>4.19로</td>\n",
              "      <td>1080012100</td>\n",
              "      <td>국립4.19묘지</td>\n",
              "      <td>아카데미하우스</td>\n",
              "      <td>하행</td>\n",
              "      <td>1190</td>\n",
              "      <td>1.0</td>\n",
              "      <td>보조간선도로</td>\n",
              "      <td>...</td>\n",
              "      <td>강북구</td>\n",
              "      <td>48.56</td>\n",
              "      <td>40.97</td>\n",
              "      <td>44.93</td>\n",
              "      <td>66.25</td>\n",
              "      <td>87.24</td>\n",
              "      <td>51.61</td>\n",
              "      <td>46.12</td>\n",
              "      <td>37.36</td>\n",
              "      <td>48.37</td>\n",
              "    </tr>\n",
              "    <tr>\n",
              "      <th>4</th>\n",
              "      <td>20191001</td>\n",
              "      <td>화</td>\n",
              "      <td>가락로</td>\n",
              "      <td>1230024700</td>\n",
              "      <td>방이초교</td>\n",
              "      <td>방이동고분군</td>\n",
              "      <td>상행</td>\n",
              "      <td>844</td>\n",
              "      <td>1.0</td>\n",
              "      <td>기타도로</td>\n",
              "      <td>...</td>\n",
              "      <td>송파구</td>\n",
              "      <td>21.17</td>\n",
              "      <td>20.23</td>\n",
              "      <td>19.30</td>\n",
              "      <td>27.08</td>\n",
              "      <td>24.88</td>\n",
              "      <td>22.75</td>\n",
              "      <td>20.99</td>\n",
              "      <td>18.37</td>\n",
              "      <td>14.59</td>\n",
              "    </tr>\n",
              "  </tbody>\n",
              "</table>\n",
              "<p>5 rows × 21 columns</p>\n",
              "</div>"
            ],
            "text/plain": [
              "         일자 요일    도로명       링크아이디         시점명         종점명  방향    거리  차선수  \\\n",
              "0  20191001  화  4.19로  1080012200     아카데미하우스    국립4.19묘지  상행  1179  1.0   \n",
              "1  20191001  화  4.19로  1080012800    국립4.19묘지  국립4.19묘지입구  상행   352  2.0   \n",
              "2  20191001  화  4.19로  1080012700  국립4.19묘지입구    국립4.19묘지  하행   354  2.0   \n",
              "3  20191001  화  4.19로  1080012100    국립4.19묘지     아카데미하우스  하행  1190  1.0   \n",
              "4  20191001  화    가락로  1230024700        방이초교      방이동고분군  상행   844  1.0   \n",
              "\n",
              "   기능유형구분  ... 권역구분    01시    02시    03시    04시    05시    06시    07시    08시  \\\n",
              "0  보조간선도로  ...  강북구  44.37  27.74  51.52  59.43  71.98  42.95  39.85  39.31   \n",
              "1  보조간선도로  ...  강북구  26.73  17.75  16.87  23.07  29.51  18.89  20.79  20.76   \n",
              "2  보조간선도로  ...  강북구  24.35  25.73  28.43  29.26  31.41  26.89  23.96  23.19   \n",
              "3  보조간선도로  ...  강북구  48.56  40.97  44.93  66.25  87.24  51.61  46.12  37.36   \n",
              "4    기타도로  ...  송파구  21.17  20.23  19.30  27.08  24.88  22.75  20.99  18.37   \n",
              "\n",
              "     09시  \n",
              "0  29.39  \n",
              "1  14.00  \n",
              "2  23.01  \n",
              "3  48.37  \n",
              "4  14.59  \n",
              "\n",
              "[5 rows x 21 columns]"
            ]
          },
          "execution_count": 17,
          "metadata": {},
          "output_type": "execute_result"
        }
      ],
      "source": [
        "traffic_data.head()"
      ]
    },
    {
      "cell_type": "code",
      "execution_count": null,
      "id": "4d1a403f-7863-4b5c-b09c-46d8d052ab47",
      "metadata": {
        "id": "4d1a403f-7863-4b5c-b09c-46d8d052ab47",
        "outputId": "69bd5a44-fbc6-448e-8a47-f0b30b296cf7"
      },
      "outputs": [
        {
          "data": {
            "text/plain": [
              "Index(['일자', '요일', '도로명', '링크아이디', '시점명', '종점명', '방향', '거리', '차선수', '기능유형구분',\n",
              "       '도심/외곽구분', '권역구분', '01시', '02시', '03시', '04시', '05시', '06시', '07시',\n",
              "       '08시', '09시'],\n",
              "      dtype='object')"
            ]
          },
          "execution_count": 15,
          "metadata": {},
          "output_type": "execute_result"
        }
      ],
      "source": [
        "traffic_data.columns"
      ]
    },
    {
      "cell_type": "code",
      "execution_count": null,
      "id": "203d7b63-ad25-4a26-8493-e2dba9be042a",
      "metadata": {
        "id": "203d7b63-ad25-4a26-8493-e2dba9be042a"
      },
      "outputs": [],
      "source": [
        "mean = list()\n",
        "var = list()\n",
        "std = list()\n",
        "for i in range(0,len(traffic_data)):\n",
        "    mean_data = traffic_data.loc[i,'01시':'09시'].mean()\n",
        "    var_data = traffic_data.loc[i,'01시':'09시'].var()\n",
        "    std_data = traffic_data.loc[i,'01시':'09시'].std()\n",
        "    mean.append(mean_data)\n",
        "    var.append(var_data)\n",
        "    std.append(std_data)"
      ]
    },
    {
      "cell_type": "code",
      "execution_count": null,
      "id": "3886616f-baaa-4f02-a505-7160b5ad12de",
      "metadata": {
        "id": "3886616f-baaa-4f02-a505-7160b5ad12de"
      },
      "outputs": [],
      "source": [
        "traffic_data['MEAN'] = mean\n",
        "traffic_data['VAR'] = var\n",
        "traffic_data['STD'] = std"
      ]
    },
    {
      "cell_type": "code",
      "execution_count": null,
      "id": "a3590f92-ea5b-463d-aa2d-2a6c1810469c",
      "metadata": {
        "id": "a3590f92-ea5b-463d-aa2d-2a6c1810469c",
        "outputId": "f5bafff2-4d51-4fe6-b7d6-92af4c24ca06"
      },
      "outputs": [
        {
          "data": {
            "text/html": [
              "<div>\n",
              "<style scoped>\n",
              "    .dataframe tbody tr th:only-of-type {\n",
              "        vertical-align: middle;\n",
              "    }\n",
              "\n",
              "    .dataframe tbody tr th {\n",
              "        vertical-align: top;\n",
              "    }\n",
              "\n",
              "    .dataframe thead th {\n",
              "        text-align: right;\n",
              "    }\n",
              "</style>\n",
              "<table border=\"1\" class=\"dataframe\">\n",
              "  <thead>\n",
              "    <tr style=\"text-align: right;\">\n",
              "      <th></th>\n",
              "      <th></th>\n",
              "      <th></th>\n",
              "      <th>MEAN</th>\n",
              "      <th>VAR</th>\n",
              "      <th>STD</th>\n",
              "    </tr>\n",
              "    <tr>\n",
              "      <th>링크아이디</th>\n",
              "      <th>시점명</th>\n",
              "      <th>종점명</th>\n",
              "      <th></th>\n",
              "      <th></th>\n",
              "      <th></th>\n",
              "    </tr>\n",
              "  </thead>\n",
              "  <tbody>\n",
              "    <tr>\n",
              "      <th>1080005100</th>\n",
              "      <th>수유사거리</th>\n",
              "      <th>미아역</th>\n",
              "      <td>26.701159</td>\n",
              "      <td>0.580247</td>\n",
              "      <td>0.692503</td>\n",
              "    </tr>\n",
              "    <tr>\n",
              "      <th>1210027800</th>\n",
              "      <th>동작대교북단</th>\n",
              "      <th>동작대교남단</th>\n",
              "      <td>65.109662</td>\n",
              "      <td>1.217287</td>\n",
              "      <td>0.826766</td>\n",
              "    </tr>\n",
              "    <tr>\n",
              "      <th>1240006000</th>\n",
              "      <th>둔촌사거리</th>\n",
              "      <th>둔촌동역</th>\n",
              "      <td>34.462609</td>\n",
              "      <td>1.198049</td>\n",
              "      <td>1.037240</td>\n",
              "    </tr>\n",
              "    <tr>\n",
              "      <th>1000013000</th>\n",
              "      <th>동묘앞역</th>\n",
              "      <th>창신역</th>\n",
              "      <td>27.678696</td>\n",
              "      <td>1.167475</td>\n",
              "      <td>1.053819</td>\n",
              "    </tr>\n",
              "    <tr>\n",
              "      <th>1220029500</th>\n",
              "      <th>강남경찰서</th>\n",
              "      <th>정신여중고앞</th>\n",
              "      <td>40.019034</td>\n",
              "      <td>1.274346</td>\n",
              "      <td>1.099219</td>\n",
              "    </tr>\n",
              "    <tr>\n",
              "      <th>...</th>\n",
              "      <th>...</th>\n",
              "      <th>...</th>\n",
              "      <td>...</td>\n",
              "      <td>...</td>\n",
              "      <td>...</td>\n",
              "    </tr>\n",
              "    <tr>\n",
              "      <th>1150004700</th>\n",
              "      <th>개화교</th>\n",
              "      <th>방화2동상사마을입구</th>\n",
              "      <td>36.607440</td>\n",
              "      <td>312.906651</td>\n",
              "      <td>17.560437</td>\n",
              "    </tr>\n",
              "    <tr>\n",
              "      <th>1170017000</th>\n",
              "      <th>독산한신아파트</th>\n",
              "      <th>금천육교</th>\n",
              "      <td>38.773285</td>\n",
              "      <td>329.764364</td>\n",
              "      <td>17.577804</td>\n",
              "    </tr>\n",
              "    <tr>\n",
              "      <th>1170014600</th>\n",
              "      <th>금천육교</th>\n",
              "      <th>시흥대교교차로</th>\n",
              "      <td>38.911063</td>\n",
              "      <td>333.543380</td>\n",
              "      <td>17.672015</td>\n",
              "    </tr>\n",
              "    <tr>\n",
              "      <th>1150005100</th>\n",
              "      <th>고촌IC(남측)</th>\n",
              "      <th>개화교</th>\n",
              "      <td>37.568068</td>\n",
              "      <td>318.952661</td>\n",
              "      <td>17.712721</td>\n",
              "    </tr>\n",
              "    <tr>\n",
              "      <th>1210006700</th>\n",
              "      <th>내곡터널성남시계</th>\n",
              "      <th>내곡IC</th>\n",
              "      <td>71.107971</td>\n",
              "      <td>765.995439</td>\n",
              "      <td>26.344040</td>\n",
              "    </tr>\n",
              "  </tbody>\n",
              "</table>\n",
              "<p>4505 rows × 3 columns</p>\n",
              "</div>"
            ],
            "text/plain": [
              "                                     MEAN         VAR        STD\n",
              "링크아이디      시점명      종점명                                         \n",
              "1080005100 수유사거리    미아역         26.701159    0.580247   0.692503\n",
              "1210027800 동작대교북단   동작대교남단      65.109662    1.217287   0.826766\n",
              "1240006000 둔촌사거리    둔촌동역        34.462609    1.198049   1.037240\n",
              "1000013000 동묘앞역     창신역         27.678696    1.167475   1.053819\n",
              "1220029500 강남경찰서    정신여중고앞      40.019034    1.274346   1.099219\n",
              "...                                   ...         ...        ...\n",
              "1150004700 개화교      방화2동상사마을입구  36.607440  312.906651  17.560437\n",
              "1170017000 독산한신아파트  금천육교        38.773285  329.764364  17.577804\n",
              "1170014600 금천육교     시흥대교교차로     38.911063  333.543380  17.672015\n",
              "1150005100 고촌IC(남측) 개화교         37.568068  318.952661  17.712721\n",
              "1210006700 내곡터널성남시계 내곡IC        71.107971  765.995439  26.344040\n",
              "\n",
              "[4505 rows x 3 columns]"
            ]
          },
          "metadata": {},
          "output_type": "display_data"
        },
        {
          "data": {
            "text/html": [
              "<div>\n",
              "<style scoped>\n",
              "    .dataframe tbody tr th:only-of-type {\n",
              "        vertical-align: middle;\n",
              "    }\n",
              "\n",
              "    .dataframe tbody tr th {\n",
              "        vertical-align: top;\n",
              "    }\n",
              "\n",
              "    .dataframe thead th {\n",
              "        text-align: right;\n",
              "    }\n",
              "</style>\n",
              "<table border=\"1\" class=\"dataframe\">\n",
              "  <thead>\n",
              "    <tr style=\"text-align: right;\">\n",
              "      <th></th>\n",
              "      <th></th>\n",
              "      <th></th>\n",
              "      <th>MEAN</th>\n",
              "      <th>VAR</th>\n",
              "      <th>STD</th>\n",
              "    </tr>\n",
              "    <tr>\n",
              "      <th>링크아이디</th>\n",
              "      <th>시점명</th>\n",
              "      <th>종점명</th>\n",
              "      <th></th>\n",
              "      <th></th>\n",
              "      <th></th>\n",
              "    </tr>\n",
              "  </thead>\n",
              "  <tbody>\n",
              "    <tr>\n",
              "      <th>1150007100</th>\n",
              "      <th>벌말로김포시계</th>\n",
              "      <th>행주대교남단(개화IC)</th>\n",
              "      <td>61.344028</td>\n",
              "      <td>0.287331</td>\n",
              "      <td>0.524829</td>\n",
              "    </tr>\n",
              "    <tr>\n",
              "      <th>1210017200</th>\n",
              "      <th>내방역</th>\n",
              "      <th>방배고개</th>\n",
              "      <td>23.942222</td>\n",
              "      <td>0.546759</td>\n",
              "      <td>0.696167</td>\n",
              "    </tr>\n",
              "    <tr>\n",
              "      <th>1170001700</th>\n",
              "      <th>시흥벽산아파트</th>\n",
              "      <th>시계(호암로)</th>\n",
              "      <td>45.405278</td>\n",
              "      <td>0.576467</td>\n",
              "      <td>0.725292</td>\n",
              "    </tr>\n",
              "    <tr>\n",
              "      <th>1220029000</th>\n",
              "      <th>삼릉공원</th>\n",
              "      <th>경복아파트</th>\n",
              "      <td>24.505972</td>\n",
              "      <td>0.649449</td>\n",
              "      <td>0.757704</td>\n",
              "    </tr>\n",
              "    <tr>\n",
              "      <th>1210027800</th>\n",
              "      <th>동작대교북단</th>\n",
              "      <th>동작대교남단</th>\n",
              "      <td>65.194861</td>\n",
              "      <td>0.891016</td>\n",
              "      <td>0.786198</td>\n",
              "    </tr>\n",
              "    <tr>\n",
              "      <th>...</th>\n",
              "      <th>...</th>\n",
              "      <th>...</th>\n",
              "      <td>...</td>\n",
              "      <td>...</td>\n",
              "      <td>...</td>\n",
              "    </tr>\n",
              "    <tr>\n",
              "      <th>1120036200</th>\n",
              "      <th>남가좌동새마을금고</th>\n",
              "      <th>DMC파크뷰APT</th>\n",
              "      <td>23.850000</td>\n",
              "      <td>226.665050</td>\n",
              "      <td>14.411370</td>\n",
              "    </tr>\n",
              "    <tr>\n",
              "      <th>1150162701</th>\n",
              "      <th>강서도로사업소</th>\n",
              "      <th>마곡나루역</th>\n",
              "      <td>31.417396</td>\n",
              "      <td>217.529364</td>\n",
              "      <td>14.608011</td>\n",
              "    </tr>\n",
              "    <tr>\n",
              "      <th>1040005700</th>\n",
              "      <th>뚝섬한강시민공원</th>\n",
              "      <th>신자초교입구</th>\n",
              "      <td>32.042778</td>\n",
              "      <td>216.908829</td>\n",
              "      <td>14.723657</td>\n",
              "    </tr>\n",
              "    <tr>\n",
              "      <th>1080012100</th>\n",
              "      <th>국립4.19묘지</th>\n",
              "      <th>아카데미하우스</th>\n",
              "      <td>52.564444</td>\n",
              "      <td>237.912340</td>\n",
              "      <td>15.422540</td>\n",
              "    </tr>\n",
              "    <tr>\n",
              "      <th>1180017200</th>\n",
              "      <th>문래동현대6차아파트</th>\n",
              "      <th>현대3차아파트</th>\n",
              "      <td>34.697000</td>\n",
              "      <td>347.262050</td>\n",
              "      <td>18.633979</td>\n",
              "    </tr>\n",
              "  </tbody>\n",
              "</table>\n",
              "<p>4505 rows × 3 columns</p>\n",
              "</div>"
            ],
            "text/plain": [
              "                                         MEAN         VAR        STD\n",
              "링크아이디      시점명        종점명                                           \n",
              "1150007100 벌말로김포시계    행주대교남단(개화IC)  61.344028    0.287331   0.524829\n",
              "1210017200 내방역        방배고개          23.942222    0.546759   0.696167\n",
              "1170001700 시흥벽산아파트    시계(호암로)       45.405278    0.576467   0.725292\n",
              "1220029000 삼릉공원       경복아파트         24.505972    0.649449   0.757704\n",
              "1210027800 동작대교북단     동작대교남단        65.194861    0.891016   0.786198\n",
              "...                                       ...         ...        ...\n",
              "1120036200 남가좌동새마을금고  DMC파크뷰APT     23.850000  226.665050  14.411370\n",
              "1150162701 강서도로사업소    마곡나루역         31.417396  217.529364  14.608011\n",
              "1040005700 뚝섬한강시민공원   신자초교입구        32.042778  216.908829  14.723657\n",
              "1080012100 국립4.19묘지   아카데미하우스       52.564444  237.912340  15.422540\n",
              "1180017200 문래동현대6차아파트 현대3차아파트       34.697000  347.262050  18.633979\n",
              "\n",
              "[4505 rows x 3 columns]"
            ]
          },
          "metadata": {},
          "output_type": "display_data"
        }
      ],
      "source": [
        "weekDay = ['월','화','수','목','금']\n",
        "weekEnd = ['토','일']\n",
        "\n",
        "aggregate_weekDay_by_linkId = traffic_data[traffic_data['요일'].isin(weekDay) & (~traffic_data['기능유형구분'].isin(['도시고속도로']))]\n",
        "aggregate_weekEnd_by_linkId = traffic_data[traffic_data['요일'].isin(weekEnd) & (~traffic_data['기능유형구분'].isin(['도시고속도로']))]\n",
        "\n",
        "weekDay_agg_data = aggregate_weekDay_by_linkId.groupby(['링크아이디','시점명','종점명'])[['MEAN','VAR','STD']].mean()\n",
        "weekEnd_agg_data = aggregate_weekEnd_by_linkId.groupby(['링크아이디','시점명','종점명'])[['MEAN','VAR','STD']].mean()\n",
        "\n",
        "display(weekDay_agg_data.sort_values(by=['STD','VAR','MEAN']))\n",
        "display(weekEnd_agg_data.sort_values(by=['STD','VAR','MEAN']))"
      ]
    },
    {
      "cell_type": "code",
      "execution_count": null,
      "id": "09d52fc2-630a-4243-b916-2b0348005e65",
      "metadata": {
        "id": "09d52fc2-630a-4243-b916-2b0348005e65"
      },
      "outputs": [],
      "source": [
        "weekDay_agg_data.reset_index(level=['링크아이디','시점명','종점명'])\n",
        "\n",
        "weekDay_agg_data.to_excel('19년 10월 집계데이터(주중).xlsx')"
      ]
    },
    {
      "cell_type": "markdown",
      "id": "0c029613-3561-4bc2-b7cd-e86ce659b92b",
      "metadata": {
        "id": "0c029613-3561-4bc2-b7cd-e86ce659b92b"
      },
      "source": [
        "---"
      ]
    },
    {
      "cell_type": "markdown",
      "id": "7d5475d8-bb8a-4350-b271-6fe4d4d0d52a",
      "metadata": {
        "id": "7d5475d8-bb8a-4350-b271-6fe4d4d0d52a"
      },
      "source": [
        "### Tmap Data 정제"
      ]
    },
    {
      "cell_type": "code",
      "execution_count": null,
      "id": "03de18b4-921e-43ce-bc47-78f132827f25",
      "metadata": {
        "id": "03de18b4-921e-43ce-bc47-78f132827f25",
        "outputId": "9c78a702-d526-4225-d53c-5aba111e7827"
      },
      "outputs": [
        {
          "data": {
            "text/html": [
              "<div>\n",
              "<style scoped>\n",
              "    .dataframe tbody tr th:only-of-type {\n",
              "        vertical-align: middle;\n",
              "    }\n",
              "\n",
              "    .dataframe tbody tr th {\n",
              "        vertical-align: top;\n",
              "    }\n",
              "\n",
              "    .dataframe thead th {\n",
              "        text-align: right;\n",
              "    }\n",
              "</style>\n",
              "<table border=\"1\" class=\"dataframe\">\n",
              "  <thead>\n",
              "    <tr style=\"text-align: right;\">\n",
              "      <th></th>\n",
              "      <th>201910310000</th>\n",
              "      <th>1000000301</th>\n",
              "      <th>151</th>\n",
              "      <th>27.39</th>\n",
              "      <th>19.84</th>\n",
              "      <th>5</th>\n",
              "    </tr>\n",
              "  </thead>\n",
              "  <tbody>\n",
              "    <tr>\n",
              "      <th>0</th>\n",
              "      <td>201910310000</td>\n",
              "      <td>1000000302</td>\n",
              "      <td>105</td>\n",
              "      <td>27.39</td>\n",
              "      <td>13.80</td>\n",
              "      <td>5</td>\n",
              "    </tr>\n",
              "    <tr>\n",
              "      <th>1</th>\n",
              "      <td>201910310000</td>\n",
              "      <td>1000000303</td>\n",
              "      <td>67</td>\n",
              "      <td>27.39</td>\n",
              "      <td>8.80</td>\n",
              "      <td>5</td>\n",
              "    </tr>\n",
              "    <tr>\n",
              "      <th>2</th>\n",
              "      <td>201910310000</td>\n",
              "      <td>1000000401</td>\n",
              "      <td>151</td>\n",
              "      <td>17.52</td>\n",
              "      <td>31.02</td>\n",
              "      <td>9</td>\n",
              "    </tr>\n",
              "    <tr>\n",
              "      <th>3</th>\n",
              "      <td>201910310000</td>\n",
              "      <td>1000000402</td>\n",
              "      <td>105</td>\n",
              "      <td>17.52</td>\n",
              "      <td>21.57</td>\n",
              "      <td>9</td>\n",
              "    </tr>\n",
              "    <tr>\n",
              "      <th>4</th>\n",
              "      <td>201910310000</td>\n",
              "      <td>1000000403</td>\n",
              "      <td>68</td>\n",
              "      <td>17.52</td>\n",
              "      <td>13.97</td>\n",
              "      <td>9</td>\n",
              "    </tr>\n",
              "  </tbody>\n",
              "</table>\n",
              "</div>"
            ],
            "text/plain": [
              "   201910310000  1000000301  151  27.39  19.84  5\n",
              "0  201910310000  1000000302  105  27.39  13.80  5\n",
              "1  201910310000  1000000303   67  27.39   8.80  5\n",
              "2  201910310000  1000000401  151  17.52  31.02  9\n",
              "3  201910310000  1000000402  105  17.52  21.57  9\n",
              "4  201910310000  1000000403   68  17.52  13.97  9"
            ]
          },
          "execution_count": 147,
          "metadata": {},
          "output_type": "execute_result"
        }
      ],
      "source": [
        "tmap_data = pd.read_csv('./TMAP_DATA.csv')\n",
        "tmap_data.head()\n",
        "# 링크아이디, 통행량\n",
        "# 링크아이디별로 통행량 합산"
      ]
    },
    {
      "cell_type": "code",
      "execution_count": null,
      "id": "bc4314c6-0bcd-4ce8-b436-bd51daf73322",
      "metadata": {
        "id": "bc4314c6-0bcd-4ce8-b436-bd51daf73322",
        "outputId": "15371a91-9139-4a95-e71a-c965f392cccc"
      },
      "outputs": [
        {
          "data": {
            "text/html": [
              "<div>\n",
              "<style scoped>\n",
              "    .dataframe tbody tr th:only-of-type {\n",
              "        vertical-align: middle;\n",
              "    }\n",
              "\n",
              "    .dataframe tbody tr th {\n",
              "        vertical-align: top;\n",
              "    }\n",
              "\n",
              "    .dataframe thead th {\n",
              "        text-align: right;\n",
              "    }\n",
              "</style>\n",
              "<table border=\"1\" class=\"dataframe\">\n",
              "  <thead>\n",
              "    <tr style=\"text-align: right;\">\n",
              "      <th></th>\n",
              "      <th>링크아이디</th>\n",
              "      <th>통행량</th>\n",
              "    </tr>\n",
              "  </thead>\n",
              "  <tbody>\n",
              "    <tr>\n",
              "      <th>0</th>\n",
              "      <td>1000000302</td>\n",
              "      <td>5</td>\n",
              "    </tr>\n",
              "    <tr>\n",
              "      <th>1</th>\n",
              "      <td>1000000303</td>\n",
              "      <td>5</td>\n",
              "    </tr>\n",
              "    <tr>\n",
              "      <th>2</th>\n",
              "      <td>1000000401</td>\n",
              "      <td>9</td>\n",
              "    </tr>\n",
              "    <tr>\n",
              "      <th>3</th>\n",
              "      <td>1000000402</td>\n",
              "      <td>9</td>\n",
              "    </tr>\n",
              "    <tr>\n",
              "      <th>4</th>\n",
              "      <td>1000000403</td>\n",
              "      <td>9</td>\n",
              "    </tr>\n",
              "  </tbody>\n",
              "</table>\n",
              "</div>"
            ],
            "text/plain": [
              "        링크아이디  통행량\n",
              "0  1000000302    5\n",
              "1  1000000303    5\n",
              "2  1000000401    9\n",
              "3  1000000402    9\n",
              "4  1000000403    9"
            ]
          },
          "execution_count": 150,
          "metadata": {},
          "output_type": "execute_result"
        }
      ],
      "source": [
        "tmap_data.columns = ['날짜','링크아이디','col1','col2','col3','통행량']\n",
        "tmap_data_extract = tmap_data[['링크아이디','통행량']]\n",
        "tmap_data_extract.head()"
      ]
    },
    {
      "cell_type": "code",
      "execution_count": null,
      "id": "f39b00d1-ff4a-4c67-877f-16b70a3ea71b",
      "metadata": {
        "id": "f39b00d1-ff4a-4c67-877f-16b70a3ea71b",
        "outputId": "dd8c74f5-a81c-4d37-c17b-3d2a7754d43e"
      },
      "outputs": [
        {
          "data": {
            "text/plain": [
              "13742"
            ]
          },
          "execution_count": 151,
          "metadata": {},
          "output_type": "execute_result"
        }
      ],
      "source": [
        "result = tmap_data_extract.groupby('링크아이디')['통행량'].sum().to_frame()\n",
        "\n",
        "len(result)"
      ]
    },
    {
      "cell_type": "code",
      "execution_count": null,
      "id": "f635c8cc-d7f0-4d81-a5e3-af7fe9b82d7d",
      "metadata": {
        "id": "f635c8cc-d7f0-4d81-a5e3-af7fe9b82d7d",
        "outputId": "bdcb785f-49cf-4bd2-8f99-a956caf0a79b"
      },
      "outputs": [
        {
          "data": {
            "text/plain": [
              "pandas.core.frame.DataFrame"
            ]
          },
          "execution_count": 152,
          "metadata": {},
          "output_type": "execute_result"
        }
      ],
      "source": [
        "type(result)"
      ]
    },
    {
      "cell_type": "code",
      "execution_count": null,
      "id": "1a86c39a-9743-411a-897f-7a6f791b7219",
      "metadata": {
        "id": "1a86c39a-9743-411a-897f-7a6f791b7219"
      },
      "outputs": [],
      "source": [
        "result.to_csv('Tmap 링크아이디별 통행량 합계.csv')"
      ]
    },
    {
      "cell_type": "code",
      "execution_count": null,
      "id": "8449ad0a-5207-4270-9817-b86cb96c2d0a",
      "metadata": {
        "id": "8449ad0a-5207-4270-9817-b86cb96c2d0a"
      },
      "outputs": [],
      "source": [
        "a = weekDay_agg_data.reset_index()"
      ]
    },
    {
      "cell_type": "code",
      "execution_count": null,
      "id": "f8d42064-96f9-4589-b7d0-8a534beb8277",
      "metadata": {
        "id": "f8d42064-96f9-4589-b7d0-8a534beb8277",
        "outputId": "6b52dff9-c0ab-4ecb-b545-bd69c807f46f"
      },
      "outputs": [
        {
          "data": {
            "text/html": [
              "<div>\n",
              "<style scoped>\n",
              "    .dataframe tbody tr th:only-of-type {\n",
              "        vertical-align: middle;\n",
              "    }\n",
              "\n",
              "    .dataframe tbody tr th {\n",
              "        vertical-align: top;\n",
              "    }\n",
              "\n",
              "    .dataframe thead th {\n",
              "        text-align: right;\n",
              "    }\n",
              "</style>\n",
              "<table border=\"1\" class=\"dataframe\">\n",
              "  <thead>\n",
              "    <tr style=\"text-align: right;\">\n",
              "      <th></th>\n",
              "      <th>링크아이디</th>\n",
              "      <th>시점명</th>\n",
              "      <th>종점명</th>\n",
              "      <th>MEAN</th>\n",
              "      <th>VAR</th>\n",
              "      <th>STD</th>\n",
              "      <th>통행량</th>\n",
              "    </tr>\n",
              "  </thead>\n",
              "  <tbody>\n",
              "    <tr>\n",
              "      <th>0</th>\n",
              "      <td>1000001700</td>\n",
              "      <td>종로5가</td>\n",
              "      <td>종로4가</td>\n",
              "      <td>25.627778</td>\n",
              "      <td>8.750090</td>\n",
              "      <td>2.836569</td>\n",
              "      <td>2530</td>\n",
              "    </tr>\n",
              "    <tr>\n",
              "      <th>1</th>\n",
              "      <td>1000002100</td>\n",
              "      <td>동묘앞역</td>\n",
              "      <td>흥인지문</td>\n",
              "      <td>21.158454</td>\n",
              "      <td>25.861973</td>\n",
              "      <td>4.952092</td>\n",
              "      <td>2950</td>\n",
              "    </tr>\n",
              "    <tr>\n",
              "      <th>2</th>\n",
              "      <td>1000003400</td>\n",
              "      <td>광교</td>\n",
              "      <td>모전교</td>\n",
              "      <td>20.999662</td>\n",
              "      <td>9.847203</td>\n",
              "      <td>3.085862</td>\n",
              "      <td>306</td>\n",
              "    </tr>\n",
              "    <tr>\n",
              "      <th>3</th>\n",
              "      <td>1000003700</td>\n",
              "      <td>청계광장</td>\n",
              "      <td>모전교</td>\n",
              "      <td>17.861594</td>\n",
              "      <td>9.209802</td>\n",
              "      <td>2.975517</td>\n",
              "      <td>547</td>\n",
              "    </tr>\n",
              "    <tr>\n",
              "      <th>4</th>\n",
              "      <td>1000003900</td>\n",
              "      <td>종로2가</td>\n",
              "      <td>청계2가</td>\n",
              "      <td>27.346473</td>\n",
              "      <td>6.398431</td>\n",
              "      <td>2.485858</td>\n",
              "      <td>1819</td>\n",
              "    </tr>\n",
              "    <tr>\n",
              "      <th>...</th>\n",
              "      <td>...</td>\n",
              "      <td>...</td>\n",
              "      <td>...</td>\n",
              "      <td>...</td>\n",
              "      <td>...</td>\n",
              "      <td>...</td>\n",
              "      <td>...</td>\n",
              "    </tr>\n",
              "    <tr>\n",
              "      <th>1274</th>\n",
              "      <td>1240027400</td>\n",
              "      <td>고덕시영아파트</td>\n",
              "      <td>고덕근린공원</td>\n",
              "      <td>32.814203</td>\n",
              "      <td>7.709510</td>\n",
              "      <td>2.728350</td>\n",
              "      <td>1753</td>\n",
              "    </tr>\n",
              "    <tr>\n",
              "      <th>1275</th>\n",
              "      <td>1240027700</td>\n",
              "      <td>샘터근린공원</td>\n",
              "      <td>광문고교</td>\n",
              "      <td>25.753188</td>\n",
              "      <td>14.214615</td>\n",
              "      <td>3.687248</td>\n",
              "      <td>487</td>\n",
              "    </tr>\n",
              "    <tr>\n",
              "      <th>1276</th>\n",
              "      <td>1240027800</td>\n",
              "      <td>광문고교</td>\n",
              "      <td>샘터근린공원</td>\n",
              "      <td>25.306232</td>\n",
              "      <td>21.030897</td>\n",
              "      <td>4.475062</td>\n",
              "      <td>492</td>\n",
              "    </tr>\n",
              "    <tr>\n",
              "      <th>1277</th>\n",
              "      <td>1240028100</td>\n",
              "      <td>샘터근린공원</td>\n",
              "      <td>고덕근린공원</td>\n",
              "      <td>32.311208</td>\n",
              "      <td>11.169875</td>\n",
              "      <td>3.213208</td>\n",
              "      <td>2286</td>\n",
              "    </tr>\n",
              "    <tr>\n",
              "      <th>1278</th>\n",
              "      <td>1240028200</td>\n",
              "      <td>고덕근린공원</td>\n",
              "      <td>샘터근린공원</td>\n",
              "      <td>37.238792</td>\n",
              "      <td>29.011865</td>\n",
              "      <td>5.181706</td>\n",
              "      <td>1513</td>\n",
              "    </tr>\n",
              "  </tbody>\n",
              "</table>\n",
              "<p>1279 rows × 7 columns</p>\n",
              "</div>"
            ],
            "text/plain": [
              "           링크아이디      시점명     종점명       MEAN        VAR       STD   통행량\n",
              "0     1000001700     종로5가    종로4가  25.627778   8.750090  2.836569  2530\n",
              "1     1000002100     동묘앞역    흥인지문  21.158454  25.861973  4.952092  2950\n",
              "2     1000003400       광교     모전교  20.999662   9.847203  3.085862   306\n",
              "3     1000003700     청계광장     모전교  17.861594   9.209802  2.975517   547\n",
              "4     1000003900     종로2가    청계2가  27.346473   6.398431  2.485858  1819\n",
              "...          ...      ...     ...        ...        ...       ...   ...\n",
              "1274  1240027400  고덕시영아파트  고덕근린공원  32.814203   7.709510  2.728350  1753\n",
              "1275  1240027700   샘터근린공원    광문고교  25.753188  14.214615  3.687248   487\n",
              "1276  1240027800     광문고교  샘터근린공원  25.306232  21.030897  4.475062   492\n",
              "1277  1240028100   샘터근린공원  고덕근린공원  32.311208  11.169875  3.213208  2286\n",
              "1278  1240028200   고덕근린공원  샘터근린공원  37.238792  29.011865  5.181706  1513\n",
              "\n",
              "[1279 rows x 7 columns]"
            ]
          },
          "execution_count": 153,
          "metadata": {},
          "output_type": "execute_result"
        }
      ],
      "source": [
        "a.merge(result,left_on='링크아이디',right_on='링크아이디')"
      ]
    },
    {
      "cell_type": "code",
      "execution_count": null,
      "id": "99ba54e0-f38c-4f54-a77e-9ebffe6b65b0",
      "metadata": {
        "id": "99ba54e0-f38c-4f54-a77e-9ebffe6b65b0"
      },
      "outputs": [],
      "source": [
        "a.to_excel('고속도로제외 집계파일.xlsx')"
      ]
    },
    {
      "cell_type": "markdown",
      "id": "ba9aead9-6293-4ff3-bc91-ad4d5c5d0ae1",
      "metadata": {
        "id": "ba9aead9-6293-4ff3-bc91-ad4d5c5d0ae1"
      },
      "source": [
        "---"
      ]
    },
    {
      "cell_type": "markdown",
      "id": "eda11e7f-f4e2-4650-a78d-4e0ef7d4a46d",
      "metadata": {
        "id": "eda11e7f-f4e2-4650-a78d-4e0ef7d4a46d"
      },
      "source": [
        "### 상관계수"
      ]
    },
    {
      "cell_type": "code",
      "execution_count": null,
      "id": "d2f95aad-7166-4e3b-96f6-a4a89a04e6be",
      "metadata": {
        "id": "d2f95aad-7166-4e3b-96f6-a4a89a04e6be",
        "outputId": "145949a6-d1c5-45d2-aa44-5b7c7d00f3fc"
      },
      "outputs": [
        {
          "data": {
            "text/html": [
              "<div>\n",
              "<style scoped>\n",
              "    .dataframe tbody tr th:only-of-type {\n",
              "        vertical-align: middle;\n",
              "    }\n",
              "\n",
              "    .dataframe tbody tr th {\n",
              "        vertical-align: top;\n",
              "    }\n",
              "\n",
              "    .dataframe thead th {\n",
              "        text-align: right;\n",
              "    }\n",
              "</style>\n",
              "<table border=\"1\" class=\"dataframe\">\n",
              "  <thead>\n",
              "    <tr style=\"text-align: right;\">\n",
              "      <th></th>\n",
              "      <th>LinkId</th>\n",
              "      <th>LANES</th>\n",
              "      <th>STD</th>\n",
              "      <th>traffic</th>\n",
              "    </tr>\n",
              "  </thead>\n",
              "  <tbody>\n",
              "    <tr>\n",
              "      <th>0</th>\n",
              "      <td>1190000200</td>\n",
              "      <td>5</td>\n",
              "      <td>18.019686</td>\n",
              "      <td>39363</td>\n",
              "    </tr>\n",
              "    <tr>\n",
              "      <th>1</th>\n",
              "      <td>1210005301</td>\n",
              "      <td>5</td>\n",
              "      <td>22.104007</td>\n",
              "      <td>33773</td>\n",
              "    </tr>\n",
              "    <tr>\n",
              "      <th>2</th>\n",
              "      <td>1210002900</td>\n",
              "      <td>5</td>\n",
              "      <td>27.881562</td>\n",
              "      <td>33524</td>\n",
              "    </tr>\n",
              "    <tr>\n",
              "      <th>3</th>\n",
              "      <td>1210003000</td>\n",
              "      <td>5</td>\n",
              "      <td>15.316664</td>\n",
              "      <td>33206</td>\n",
              "    </tr>\n",
              "    <tr>\n",
              "      <th>4</th>\n",
              "      <td>1210004901</td>\n",
              "      <td>4</td>\n",
              "      <td>12.816235</td>\n",
              "      <td>32641</td>\n",
              "    </tr>\n",
              "  </tbody>\n",
              "</table>\n",
              "</div>"
            ],
            "text/plain": [
              "       LinkId  LANES        STD  traffic\n",
              "0  1190000200      5  18.019686    39363\n",
              "1  1210005301      5  22.104007    33773\n",
              "2  1210002900      5  27.881562    33524\n",
              "3  1210003000      5  15.316664    33206\n",
              "4  1210004901      4  12.816235    32641"
            ]
          },
          "execution_count": 171,
          "metadata": {},
          "output_type": "execute_result"
        }
      ],
      "source": [
        "traffic_data_be = pd.read_excel('./서울시 191031 교통자료.xls')\n",
        "\n",
        "traffic_data = traffic_data_be.rename(columns={'표준링크아이디':'LinkId','통행량':'traffic'})\n",
        "traffic_data.head()"
      ]
    },
    {
      "cell_type": "code",
      "execution_count": null,
      "id": "e57ad0e2-91fd-4795-87f6-1681af6eee9e",
      "metadata": {
        "id": "e57ad0e2-91fd-4795-87f6-1681af6eee9e",
        "outputId": "e7d36319-d0c0-42ab-bfc3-891abb4f275d"
      },
      "outputs": [
        {
          "data": {
            "text/plain": [
              "0.4601516152061573"
            ]
          },
          "metadata": {},
          "output_type": "display_data"
        },
        {
          "data": {
            "text/plain": [
              "array([-4.37737623e-07,  1.63476826e+03,  6.11091982e+02])"
            ]
          },
          "metadata": {},
          "output_type": "display_data"
        }
      ],
      "source": [
        "from sklearn.linear_model import LinearRegression\n",
        "from sklearn.preprocessing import MinMaxScaler\n",
        "import numpy as np\n",
        "\n",
        "scaler = MinMaxScaler()\n",
        "X = traffic_data.iloc[:,:-1]\n",
        "\n",
        "y_data = traffic_data.iloc[:,-1]\n",
        "# y = scaler.fit_transform(np.reshape(y_data.to_numpy(),(-1,1)))\n",
        "y = y_data\n",
        "reg = LinearRegression().fit(X, y)\n",
        "display(reg.score(X, y))\n",
        "display(reg.coef_)\n"
      ]
    },
    {
      "cell_type": "code",
      "execution_count": null,
      "id": "1778bbea-5c1e-457f-bfe1-6a0e62bbfc65",
      "metadata": {
        "id": "1778bbea-5c1e-457f-bfe1-6a0e62bbfc65"
      },
      "outputs": [],
      "source": [
        "import seaborn as sns"
      ]
    },
    {
      "cell_type": "code",
      "execution_count": null,
      "id": "9695d838-41e5-43cd-a9a6-ad7c4112f2a3",
      "metadata": {
        "id": "9695d838-41e5-43cd-a9a6-ad7c4112f2a3",
        "outputId": "e2461a9a-fc01-4367-d3c5-a14d168bc311"
      },
      "outputs": [
        {
          "ename": "AttributeError",
          "evalue": "'Series' object has no attribute 'flatten'",
          "output_type": "error",
          "traceback": [
            "\u001b[1;31m---------------------------------------------------------------------------\u001b[0m",
            "\u001b[1;31mAttributeError\u001b[0m                            Traceback (most recent call last)",
            "\u001b[1;32m<ipython-input-167-a66ade583d59>\u001b[0m in \u001b[0;36m<module>\u001b[1;34m\u001b[0m\n\u001b[1;32m----> 1\u001b[1;33m \u001b[0mtraffic_data\u001b[0m\u001b[1;33m[\u001b[0m\u001b[1;34m'traffic'\u001b[0m\u001b[1;33m]\u001b[0m \u001b[1;33m=\u001b[0m \u001b[0mpd\u001b[0m\u001b[1;33m.\u001b[0m\u001b[0mSeries\u001b[0m\u001b[1;33m(\u001b[0m\u001b[0my\u001b[0m\u001b[1;33m.\u001b[0m\u001b[0mflatten\u001b[0m\u001b[1;33m(\u001b[0m\u001b[1;33m)\u001b[0m\u001b[1;33m)\u001b[0m\u001b[1;33m\u001b[0m\u001b[1;33m\u001b[0m\u001b[0m\n\u001b[0m",
            "\u001b[1;32m~\\anaconda3\\lib\\site-packages\\pandas\\core\\generic.py\u001b[0m in \u001b[0;36m__getattr__\u001b[1;34m(self, name)\u001b[0m\n\u001b[0;32m   5463\u001b[0m             \u001b[1;32mif\u001b[0m \u001b[0mself\u001b[0m\u001b[1;33m.\u001b[0m\u001b[0m_info_axis\u001b[0m\u001b[1;33m.\u001b[0m\u001b[0m_can_hold_identifiers_and_holds_name\u001b[0m\u001b[1;33m(\u001b[0m\u001b[0mname\u001b[0m\u001b[1;33m)\u001b[0m\u001b[1;33m:\u001b[0m\u001b[1;33m\u001b[0m\u001b[1;33m\u001b[0m\u001b[0m\n\u001b[0;32m   5464\u001b[0m                 \u001b[1;32mreturn\u001b[0m \u001b[0mself\u001b[0m\u001b[1;33m[\u001b[0m\u001b[0mname\u001b[0m\u001b[1;33m]\u001b[0m\u001b[1;33m\u001b[0m\u001b[1;33m\u001b[0m\u001b[0m\n\u001b[1;32m-> 5465\u001b[1;33m             \u001b[1;32mreturn\u001b[0m \u001b[0mobject\u001b[0m\u001b[1;33m.\u001b[0m\u001b[0m__getattribute__\u001b[0m\u001b[1;33m(\u001b[0m\u001b[0mself\u001b[0m\u001b[1;33m,\u001b[0m \u001b[0mname\u001b[0m\u001b[1;33m)\u001b[0m\u001b[1;33m\u001b[0m\u001b[1;33m\u001b[0m\u001b[0m\n\u001b[0m\u001b[0;32m   5466\u001b[0m \u001b[1;33m\u001b[0m\u001b[0m\n\u001b[0;32m   5467\u001b[0m     \u001b[1;32mdef\u001b[0m \u001b[0m__setattr__\u001b[0m\u001b[1;33m(\u001b[0m\u001b[0mself\u001b[0m\u001b[1;33m,\u001b[0m \u001b[0mname\u001b[0m\u001b[1;33m:\u001b[0m \u001b[0mstr\u001b[0m\u001b[1;33m,\u001b[0m \u001b[0mvalue\u001b[0m\u001b[1;33m)\u001b[0m \u001b[1;33m->\u001b[0m \u001b[1;32mNone\u001b[0m\u001b[1;33m:\u001b[0m\u001b[1;33m\u001b[0m\u001b[1;33m\u001b[0m\u001b[0m\n",
            "\u001b[1;31mAttributeError\u001b[0m: 'Series' object has no attribute 'flatten'"
          ]
        }
      ],
      "source": [
        "# scaler 사용 시 실행\n",
        "# traffic_data['traffic'] = pd.Series(y.flatten())"
      ]
    },
    {
      "cell_type": "code",
      "execution_count": null,
      "id": "a34b64fb-94ae-4a26-8953-a645839a3eb0",
      "metadata": {
        "id": "a34b64fb-94ae-4a26-8953-a645839a3eb0",
        "outputId": "7279394f-f01e-4a81-fdbe-2e2038ec9ccc"
      },
      "outputs": [
        {
          "data": {
            "text/html": [
              "<div>\n",
              "<style scoped>\n",
              "    .dataframe tbody tr th:only-of-type {\n",
              "        vertical-align: middle;\n",
              "    }\n",
              "\n",
              "    .dataframe tbody tr th {\n",
              "        vertical-align: top;\n",
              "    }\n",
              "\n",
              "    .dataframe thead th {\n",
              "        text-align: right;\n",
              "    }\n",
              "</style>\n",
              "<table border=\"1\" class=\"dataframe\">\n",
              "  <thead>\n",
              "    <tr style=\"text-align: right;\">\n",
              "      <th></th>\n",
              "      <th>LinkId</th>\n",
              "      <th>LANES</th>\n",
              "      <th>STD</th>\n",
              "      <th>traffic</th>\n",
              "    </tr>\n",
              "  </thead>\n",
              "  <tbody>\n",
              "    <tr>\n",
              "      <th>0</th>\n",
              "      <td>1190000200</td>\n",
              "      <td>5</td>\n",
              "      <td>18.019686</td>\n",
              "      <td>39363</td>\n",
              "    </tr>\n",
              "    <tr>\n",
              "      <th>1</th>\n",
              "      <td>1210005301</td>\n",
              "      <td>5</td>\n",
              "      <td>22.104007</td>\n",
              "      <td>33773</td>\n",
              "    </tr>\n",
              "    <tr>\n",
              "      <th>2</th>\n",
              "      <td>1210002900</td>\n",
              "      <td>5</td>\n",
              "      <td>27.881562</td>\n",
              "      <td>33524</td>\n",
              "    </tr>\n",
              "    <tr>\n",
              "      <th>3</th>\n",
              "      <td>1210003000</td>\n",
              "      <td>5</td>\n",
              "      <td>15.316664</td>\n",
              "      <td>33206</td>\n",
              "    </tr>\n",
              "    <tr>\n",
              "      <th>4</th>\n",
              "      <td>1210004901</td>\n",
              "      <td>4</td>\n",
              "      <td>12.816235</td>\n",
              "      <td>32641</td>\n",
              "    </tr>\n",
              "  </tbody>\n",
              "</table>\n",
              "</div>"
            ],
            "text/plain": [
              "       LinkId  LANES        STD  traffic\n",
              "0  1190000200      5  18.019686    39363\n",
              "1  1210005301      5  22.104007    33773\n",
              "2  1210002900      5  27.881562    33524\n",
              "3  1210003000      5  15.316664    33206\n",
              "4  1210004901      4  12.816235    32641"
            ]
          },
          "execution_count": 173,
          "metadata": {},
          "output_type": "execute_result"
        }
      ],
      "source": [
        "traffic_data.head()"
      ]
    },
    {
      "cell_type": "code",
      "execution_count": null,
      "id": "93c2bf2b-3e08-4d06-81f9-05ef2395fca8",
      "metadata": {
        "id": "93c2bf2b-3e08-4d06-81f9-05ef2395fca8",
        "outputId": "16d72c0d-74d4-475b-da93-e47cb0ee4328"
      },
      "outputs": [
        {
          "data": {
            "image/png": "[encoded data removed]",
            "text/plain": [
              "<Figure size 432x288 with 1 Axes>"
            ]
          },
          "metadata": {
            "needs_background": "light"
          },
          "output_type": "display_data"
        }
      ],
      "source": [
        "ax = sns.regplot(x='STD',y='traffic',data=traffic_data)"
      ]
    },
    {
      "cell_type": "code",
      "execution_count": null,
      "id": "93b6c79c-7df5-4054-b530-590643be4fe9",
      "metadata": {
        "id": "93b6c79c-7df5-4054-b530-590643be4fe9",
        "outputId": "da80a225-1b5c-4c4f-a23e-c7d0efc89bf7"
      },
      "outputs": [
        {
          "data": {
            "text/plain": [
              "<AxesSubplot:>"
            ]
          },
          "execution_count": 175,
          "metadata": {},
          "output_type": "execute_result"
        },
        {
          "data": {
            "image/png": "[encoded data removed]",
            "text/plain": [
              "<Figure size 432x288 with 2 Axes>"
            ]
          },
          "metadata": {
            "needs_background": "light"
          },
          "output_type": "display_data"
        }
      ],
      "source": [
        "corr_df = traffic_data.corr()\n",
        "sns.heatmap(corr_df,annot=True)"
      ]
    },
    {
      "cell_type": "code",
      "execution_count": null,
      "id": "6274af1b-edd5-46ba-9933-c16d136eb864",
      "metadata": {
        "id": "6274af1b-edd5-46ba-9933-c16d136eb864",
        "outputId": "dfc1607f-3a8e-48fd-e0f0-24a105ca9bc3"
      },
      "outputs": [
        {
          "data": {
            "text/html": [
              "<div>\n",
              "<style scoped>\n",
              "    .dataframe tbody tr th:only-of-type {\n",
              "        vertical-align: middle;\n",
              "    }\n",
              "\n",
              "    .dataframe tbody tr th {\n",
              "        vertical-align: top;\n",
              "    }\n",
              "\n",
              "    .dataframe thead th {\n",
              "        text-align: right;\n",
              "    }\n",
              "</style>\n",
              "<table border=\"1\" class=\"dataframe\">\n",
              "  <thead>\n",
              "    <tr style=\"text-align: right;\">\n",
              "      <th></th>\n",
              "      <th>LinkId</th>\n",
              "      <th>LANES</th>\n",
              "      <th>STD</th>\n",
              "      <th>traffic</th>\n",
              "    </tr>\n",
              "  </thead>\n",
              "  <tbody>\n",
              "    <tr>\n",
              "      <th>LinkId</th>\n",
              "      <td>1.000000</td>\n",
              "      <td>0.126026</td>\n",
              "      <td>0.073188</td>\n",
              "      <td>0.084139</td>\n",
              "    </tr>\n",
              "    <tr>\n",
              "      <th>LANES</th>\n",
              "      <td>0.126026</td>\n",
              "      <td>1.000000</td>\n",
              "      <td>0.049551</td>\n",
              "      <td>0.464665</td>\n",
              "    </tr>\n",
              "    <tr>\n",
              "      <th>STD</th>\n",
              "      <td>0.073188</td>\n",
              "      <td>0.049551</td>\n",
              "      <td>1.000000</td>\n",
              "      <td>0.516563</td>\n",
              "    </tr>\n",
              "    <tr>\n",
              "      <th>traffic</th>\n",
              "      <td>0.084139</td>\n",
              "      <td>0.464665</td>\n",
              "      <td>0.516563</td>\n",
              "      <td>1.000000</td>\n",
              "    </tr>\n",
              "  </tbody>\n",
              "</table>\n",
              "</div>"
            ],
            "text/plain": [
              "           LinkId     LANES       STD   traffic\n",
              "LinkId   1.000000  0.126026  0.073188  0.084139\n",
              "LANES    0.126026  1.000000  0.049551  0.464665\n",
              "STD      0.073188  0.049551  1.000000  0.516563\n",
              "traffic  0.084139  0.464665  0.516563  1.000000"
            ]
          },
          "execution_count": 176,
          "metadata": {},
          "output_type": "execute_result"
        }
      ],
      "source": [
        "corr_df"
      ]
    },
    {
      "cell_type": "code",
      "execution_count": null,
      "id": "82fcdf85-136f-4545-8709-79ed68954882",
      "metadata": {
        "id": "82fcdf85-136f-4545-8709-79ed68954882"
      },
      "outputs": [],
      "source": [
        "from scipy import stats"
      ]
    },
    {
      "cell_type": "code",
      "execution_count": null,
      "id": "8eec5fe3-d53b-420b-96c4-6134e679c71f",
      "metadata": {
        "id": "8eec5fe3-d53b-420b-96c4-6134e679c71f",
        "outputId": "6d9329f0-c8b5-4ace-8bbc-b4937f92073e"
      },
      "outputs": [
        {
          "name": "stdout",
          "output_type": "stream",
          "text": [
            "t검정 통계량: -74.672, pvalue=0.00000\n"
          ]
        }
      ],
      "source": [
        "result = stats.ttest_ind(X['STD'], y)\n",
        "\n",
        "print(\"t검정 통계량: %.3f, pvalue=%.5f\"%(result))"
      ]
    },
    {
      "cell_type": "markdown",
      "id": "09916454-9ee6-45dd-ad33-4589f199b538",
      "metadata": {
        "id": "09916454-9ee6-45dd-ad33-4589f199b538"
      },
      "source": [
        "---"
      ]
    },
    {
      "cell_type": "code",
      "execution_count": null,
      "id": "89f4ca97-e91f-4ec0-9644-600126fc34d7",
      "metadata": {
        "id": "89f4ca97-e91f-4ec0-9644-600126fc34d7"
      },
      "outputs": [],
      "source": [
        "import geopandas as gpd\n",
        "import missingno as msno\n",
        "import pyproj"
      ]
    },
    {
      "cell_type": "code",
      "execution_count": null,
      "id": "0dcda11e-0c06-4d15-a34b-2730118749b0",
      "metadata": {
        "id": "0dcda11e-0c06-4d15-a34b-2730118749b0",
        "outputId": "4e7632d1-982f-4ce7-cd7f-bcb36c7278f4"
      },
      "outputs": [
        {
          "data": {
            "text/plain": [
              "'C:\\\\Users\\\\user\\\\anaconda3\\\\lib\\\\site-packages\\\\pyproj\\\\proj_dir\\\\share\\\\proj'"
            ]
          },
          "execution_count": 197,
          "metadata": {},
          "output_type": "execute_result"
        }
      ],
      "source": [
        "pyproj.datadir.get_data_dir()"
      ]
    },
    {
      "cell_type": "code",
      "execution_count": null,
      "id": "007ce984-56d5-40c4-a52d-198b7f04fee3",
      "metadata": {
        "id": "007ce984-56d5-40c4-a52d-198b7f04fee3",
        "outputId": "5d51d3f9-abb0-4d5f-9f69-8b6ab20ce829"
      },
      "outputs": [
        {
          "ename": "CRSError",
          "evalue": "Invalid projection: epsg:4326: (Internal Proj Error: proj_create: SQLite error on SELECT name, type, coordinate_system_auth_name, coordinate_system_code, datum_auth_name, datum_code, area_of_use_auth_name, area_of_use_code, text_definition, deprecated FROM geodetic_crs WHERE auth_name = ? AND code = ?: no such column: area_of_use_auth_name)",
          "output_type": "error",
          "traceback": [
            "\u001b[1;31m---------------------------------------------------------------------------\u001b[0m",
            "\u001b[1;31mCRSError\u001b[0m                                  Traceback (most recent call last)",
            "\u001b[1;32m<ipython-input-198-11b0b76cbc50>\u001b[0m in \u001b[0;36m<module>\u001b[1;34m\u001b[0m\n\u001b[1;32m----> 1\u001b[1;33m \u001b[0mbus_stop\u001b[0m \u001b[1;33m=\u001b[0m \u001b[0mgpd\u001b[0m\u001b[1;33m.\u001b[0m\u001b[0mread_file\u001b[0m\u001b[1;33m(\u001b[0m\u001b[1;34m'./서울시_버스정류소_좌표데이터/서울시_버스정류소_좌표데이터.shp'\u001b[0m\u001b[1;33m)\u001b[0m\u001b[1;33m\u001b[0m\u001b[1;33m\u001b[0m\u001b[0m\n\u001b[0m",
            "\u001b[1;32m~\\anaconda3\\lib\\site-packages\\geopandas\\io\\file.py\u001b[0m in \u001b[0;36m_read_file\u001b[1;34m(filename, bbox, mask, rows, **kwargs)\u001b[0m\n\u001b[0;32m    201\u001b[0m                 )\n\u001b[0;32m    202\u001b[0m \u001b[1;33m\u001b[0m\u001b[0m\n\u001b[1;32m--> 203\u001b[1;33m             return GeoDataFrame.from_features(\n\u001b[0m\u001b[0;32m    204\u001b[0m                 \u001b[0mf_filt\u001b[0m\u001b[1;33m,\u001b[0m \u001b[0mcrs\u001b[0m\u001b[1;33m=\u001b[0m\u001b[0mcrs\u001b[0m\u001b[1;33m,\u001b[0m \u001b[0mcolumns\u001b[0m\u001b[1;33m=\u001b[0m\u001b[0mcolumns\u001b[0m \u001b[1;33m+\u001b[0m \u001b[1;33m[\u001b[0m\u001b[1;34m\"geometry\"\u001b[0m\u001b[1;33m]\u001b[0m\u001b[1;33m\u001b[0m\u001b[1;33m\u001b[0m\u001b[0m\n\u001b[0;32m    205\u001b[0m             )\n",
            "\u001b[1;32m~\\anaconda3\\lib\\site-packages\\geopandas\\geodataframe.py\u001b[0m in \u001b[0;36mfrom_features\u001b[1;34m(cls, features, crs, columns)\u001b[0m\n\u001b[0;32m    585\u001b[0m             \u001b[0mrow\u001b[0m\u001b[1;33m.\u001b[0m\u001b[0mupdate\u001b[0m\u001b[1;33m(\u001b[0m\u001b[0mfeature\u001b[0m\u001b[1;33m[\u001b[0m\u001b[1;34m\"properties\"\u001b[0m\u001b[1;33m]\u001b[0m\u001b[1;33m)\u001b[0m\u001b[1;33m\u001b[0m\u001b[1;33m\u001b[0m\u001b[0m\n\u001b[0;32m    586\u001b[0m             \u001b[0mrows\u001b[0m\u001b[1;33m.\u001b[0m\u001b[0mappend\u001b[0m\u001b[1;33m(\u001b[0m\u001b[0mrow\u001b[0m\u001b[1;33m)\u001b[0m\u001b[1;33m\u001b[0m\u001b[1;33m\u001b[0m\u001b[0m\n\u001b[1;32m--> 587\u001b[1;33m         \u001b[1;32mreturn\u001b[0m \u001b[0mGeoDataFrame\u001b[0m\u001b[1;33m(\u001b[0m\u001b[0mrows\u001b[0m\u001b[1;33m,\u001b[0m \u001b[0mcolumns\u001b[0m\u001b[1;33m=\u001b[0m\u001b[0mcolumns\u001b[0m\u001b[1;33m,\u001b[0m \u001b[0mcrs\u001b[0m\u001b[1;33m=\u001b[0m\u001b[0mcrs\u001b[0m\u001b[1;33m)\u001b[0m\u001b[1;33m\u001b[0m\u001b[1;33m\u001b[0m\u001b[0m\n\u001b[0m\u001b[0;32m    588\u001b[0m \u001b[1;33m\u001b[0m\u001b[0m\n\u001b[0;32m    589\u001b[0m     \u001b[1;33m@\u001b[0m\u001b[0mclassmethod\u001b[0m\u001b[1;33m\u001b[0m\u001b[1;33m\u001b[0m\u001b[0m\n",
            "\u001b[1;32m~\\anaconda3\\lib\\site-packages\\geopandas\\geodataframe.py\u001b[0m in \u001b[0;36m__init__\u001b[1;34m(self, geometry, crs, *args, **kwargs)\u001b[0m\n\u001b[0;32m    107\u001b[0m         \u001b[1;31m# need to set this before calling self['geometry'], because\u001b[0m\u001b[1;33m\u001b[0m\u001b[1;33m\u001b[0m\u001b[1;33m\u001b[0m\u001b[0m\n\u001b[0;32m    108\u001b[0m         \u001b[1;31m# getitem accesses crs\u001b[0m\u001b[1;33m\u001b[0m\u001b[1;33m\u001b[0m\u001b[1;33m\u001b[0m\u001b[0m\n\u001b[1;32m--> 109\u001b[1;33m         \u001b[0mself\u001b[0m\u001b[1;33m.\u001b[0m\u001b[0m_crs\u001b[0m \u001b[1;33m=\u001b[0m \u001b[0mCRS\u001b[0m\u001b[1;33m.\u001b[0m\u001b[0mfrom_user_input\u001b[0m\u001b[1;33m(\u001b[0m\u001b[0mcrs\u001b[0m\u001b[1;33m)\u001b[0m \u001b[1;32mif\u001b[0m \u001b[0mcrs\u001b[0m \u001b[1;32melse\u001b[0m \u001b[1;32mNone\u001b[0m\u001b[1;33m\u001b[0m\u001b[1;33m\u001b[0m\u001b[0m\n\u001b[0m\u001b[0;32m    110\u001b[0m \u001b[1;33m\u001b[0m\u001b[0m\n\u001b[0;32m    111\u001b[0m         \u001b[1;31m# set_geometry ensures the geometry data have the proper dtype,\u001b[0m\u001b[1;33m\u001b[0m\u001b[1;33m\u001b[0m\u001b[1;33m\u001b[0m\u001b[0m\n",
            "\u001b[1;32m~\\anaconda3\\lib\\site-packages\\pyproj\\crs\\crs.py\u001b[0m in \u001b[0;36mfrom_user_input\u001b[1;34m(value, **kwargs)\u001b[0m\n\u001b[0;32m    438\u001b[0m         \u001b[1;32mif\u001b[0m \u001b[0misinstance\u001b[0m\u001b[1;33m(\u001b[0m\u001b[0mvalue\u001b[0m\u001b[1;33m,\u001b[0m \u001b[0mCRS\u001b[0m\u001b[1;33m)\u001b[0m\u001b[1;33m:\u001b[0m\u001b[1;33m\u001b[0m\u001b[1;33m\u001b[0m\u001b[0m\n\u001b[0;32m    439\u001b[0m             \u001b[1;32mreturn\u001b[0m \u001b[0mvalue\u001b[0m\u001b[1;33m\u001b[0m\u001b[1;33m\u001b[0m\u001b[0m\n\u001b[1;32m--> 440\u001b[1;33m         \u001b[1;32mreturn\u001b[0m \u001b[0mCRS\u001b[0m\u001b[1;33m(\u001b[0m\u001b[0mvalue\u001b[0m\u001b[1;33m,\u001b[0m \u001b[1;33m**\u001b[0m\u001b[0mkwargs\u001b[0m\u001b[1;33m)\u001b[0m\u001b[1;33m\u001b[0m\u001b[1;33m\u001b[0m\u001b[0m\n\u001b[0m\u001b[0;32m    441\u001b[0m \u001b[1;33m\u001b[0m\u001b[0m\n\u001b[0;32m    442\u001b[0m     \u001b[1;32mdef\u001b[0m \u001b[0mget_geod\u001b[0m\u001b[1;33m(\u001b[0m\u001b[0mself\u001b[0m\u001b[1;33m)\u001b[0m \u001b[1;33m->\u001b[0m \u001b[0mOptional\u001b[0m\u001b[1;33m[\u001b[0m\u001b[0mGeod\u001b[0m\u001b[1;33m]\u001b[0m\u001b[1;33m:\u001b[0m\u001b[1;33m\u001b[0m\u001b[1;33m\u001b[0m\u001b[0m\n",
            "\u001b[1;32m~\\anaconda3\\lib\\site-packages\\pyproj\\crs\\crs.py\u001b[0m in \u001b[0;36m__init__\u001b[1;34m(self, projparams, **kwargs)\u001b[0m\n\u001b[0;32m    294\u001b[0m             \u001b[0mprojstring\u001b[0m \u001b[1;33m=\u001b[0m \u001b[0m_prepare_from_string\u001b[0m\u001b[1;33m(\u001b[0m\u001b[1;34m\" \"\u001b[0m\u001b[1;33m.\u001b[0m\u001b[0mjoin\u001b[0m\u001b[1;33m(\u001b[0m\u001b[1;33m(\u001b[0m\u001b[0mprojstring\u001b[0m\u001b[1;33m,\u001b[0m \u001b[0mprojkwargs\u001b[0m\u001b[1;33m)\u001b[0m\u001b[1;33m)\u001b[0m\u001b[1;33m)\u001b[0m\u001b[1;33m\u001b[0m\u001b[1;33m\u001b[0m\u001b[0m\n\u001b[0;32m    295\u001b[0m \u001b[1;33m\u001b[0m\u001b[0m\n\u001b[1;32m--> 296\u001b[1;33m         \u001b[0msuper\u001b[0m\u001b[1;33m(\u001b[0m\u001b[1;33m)\u001b[0m\u001b[1;33m.\u001b[0m\u001b[0m__init__\u001b[0m\u001b[1;33m(\u001b[0m\u001b[0mprojstring\u001b[0m\u001b[1;33m)\u001b[0m\u001b[1;33m\u001b[0m\u001b[1;33m\u001b[0m\u001b[0m\n\u001b[0m\u001b[0;32m    297\u001b[0m \u001b[1;33m\u001b[0m\u001b[0m\n\u001b[0;32m    298\u001b[0m     \u001b[1;33m@\u001b[0m\u001b[0mstaticmethod\u001b[0m\u001b[1;33m\u001b[0m\u001b[1;33m\u001b[0m\u001b[0m\n",
            "\u001b[1;32mpyproj/_crs.pyx\u001b[0m in \u001b[0;36mpyproj._crs._CRS.__init__\u001b[1;34m()\u001b[0m\n",
            "\u001b[1;31mCRSError\u001b[0m: Invalid projection: epsg:4326: (Internal Proj Error: proj_create: SQLite error on SELECT name, type, coordinate_system_auth_name, coordinate_system_code, datum_auth_name, datum_code, area_of_use_auth_name, area_of_use_code, text_definition, deprecated FROM geodetic_crs WHERE auth_name = ? AND code = ?: no such column: area_of_use_auth_name)"
          ]
        }
      ],
      "source": [
        "bus_stop = gpd.read_file('./서울시_버스정류소_좌표데이터/서울시_버스정류소_좌표데이터.shp')"
      ]
    }
  ],
  "metadata": {
    "kernelspec": {
      "display_name": "Python 3",
      "language": "python",
      "name": "python3"
    },
    "language_info": {
      "codemirror_mode": {
        "name": "ipython",
        "version": 3
      },
      "file_extension": ".py",
      "mimetype": "text/x-python",
      "name": "python",
      "nbconvert_exporter": "python",
      "pygments_lexer": "ipython3",
      "version": "3.8.11"
    },
    "colab": {
      "provenance": []
    }
  },
  "nbformat": 4,
  "nbformat_minor": 5
}